{
  "cells": [
    {
      "cell_type": "markdown",
      "metadata": {
        "id": "8btslLOV-zhM"
      },
      "source": [
        "###### Assessment"
      ]
    },
    {
      "cell_type": "markdown",
      "metadata": {
        "id": "6bDLGy2M-zhT"
      },
      "source": [
        "###### I am going to provide two .csv files , you are supposed to work on them and have to provide solutions to the following problems"
      ]
    },
    {
      "cell_type": "markdown",
      "metadata": {
        "id": "v2j9NZQ1-zhV"
      },
      "source": [
        "###### import necessary libraries"
      ]
    },
    {
      "cell_type": "code",
      "execution_count": 1,
      "metadata": {
        "id": "ixWy4qx1-zhX"
      },
      "outputs": [],
      "source": [
        "import pandas as pd"
      ]
    },
    {
      "cell_type": "markdown",
      "metadata": {
        "id": "4uKXPPVm-zhY"
      },
      "source": [
        "###### merge those two csv files (after getting as dataframes, get them as a single dataframe)"
      ]
    },
    {
      "cell_type": "code",
      "execution_count": 3,
      "metadata": {
        "id": "p6T28IeF-zhZ",
        "colab": {
          "base_uri": "https://localhost:8080/",
          "height": 206
        },
        "outputId": "c7943eab-8724-4cce-ede0-d32c50991ae0"
      },
      "outputs": [
        {
          "output_type": "execute_result",
          "data": {
            "text/plain": [
              "          Name  python  mysql  Previous Geekions  CodeKata Score  \\\n",
              "0    A.Dharani    82.0   20.0              24500           24500   \n",
              "1  V.JEEVITHA     82.0   20.0              21740           21740   \n",
              "2  HEMAVATHI.R   100.0  100.0              19680           19680   \n",
              "3  Mugunthan S   100.0   47.0              10610           10610   \n",
              "4  Sathammai.S   100.0    8.0               8980            8980   \n",
              "\n",
              "                         Department  Rising  \n",
              "0  Computer Science and Engineering       0  \n",
              "1  Computer Science and Engineering       0  \n",
              "2  Computer Science and Engineering       0  \n",
              "3  Computer Science and Engineering       0  \n",
              "4  Computer Science and Engineering       0  "
            ],
            "text/html": [
              "\n",
              "  <div id=\"df-110511ae-aeee-4010-a7da-4886b3c41c4d\">\n",
              "    <div class=\"colab-df-container\">\n",
              "      <div>\n",
              "<style scoped>\n",
              "    .dataframe tbody tr th:only-of-type {\n",
              "        vertical-align: middle;\n",
              "    }\n",
              "\n",
              "    .dataframe tbody tr th {\n",
              "        vertical-align: top;\n",
              "    }\n",
              "\n",
              "    .dataframe thead th {\n",
              "        text-align: right;\n",
              "    }\n",
              "</style>\n",
              "<table border=\"1\" class=\"dataframe\">\n",
              "  <thead>\n",
              "    <tr style=\"text-align: right;\">\n",
              "      <th></th>\n",
              "      <th>Name</th>\n",
              "      <th>python</th>\n",
              "      <th>mysql</th>\n",
              "      <th>Previous Geekions</th>\n",
              "      <th>CodeKata Score</th>\n",
              "      <th>Department</th>\n",
              "      <th>Rising</th>\n",
              "    </tr>\n",
              "  </thead>\n",
              "  <tbody>\n",
              "    <tr>\n",
              "      <th>0</th>\n",
              "      <td>A.Dharani</td>\n",
              "      <td>82.0</td>\n",
              "      <td>20.0</td>\n",
              "      <td>24500</td>\n",
              "      <td>24500</td>\n",
              "      <td>Computer Science and Engineering</td>\n",
              "      <td>0</td>\n",
              "    </tr>\n",
              "    <tr>\n",
              "      <th>1</th>\n",
              "      <td>V.JEEVITHA</td>\n",
              "      <td>82.0</td>\n",
              "      <td>20.0</td>\n",
              "      <td>21740</td>\n",
              "      <td>21740</td>\n",
              "      <td>Computer Science and Engineering</td>\n",
              "      <td>0</td>\n",
              "    </tr>\n",
              "    <tr>\n",
              "      <th>2</th>\n",
              "      <td>HEMAVATHI.R</td>\n",
              "      <td>100.0</td>\n",
              "      <td>100.0</td>\n",
              "      <td>19680</td>\n",
              "      <td>19680</td>\n",
              "      <td>Computer Science and Engineering</td>\n",
              "      <td>0</td>\n",
              "    </tr>\n",
              "    <tr>\n",
              "      <th>3</th>\n",
              "      <td>Mugunthan S</td>\n",
              "      <td>100.0</td>\n",
              "      <td>47.0</td>\n",
              "      <td>10610</td>\n",
              "      <td>10610</td>\n",
              "      <td>Computer Science and Engineering</td>\n",
              "      <td>0</td>\n",
              "    </tr>\n",
              "    <tr>\n",
              "      <th>4</th>\n",
              "      <td>Sathammai.S</td>\n",
              "      <td>100.0</td>\n",
              "      <td>8.0</td>\n",
              "      <td>8980</td>\n",
              "      <td>8980</td>\n",
              "      <td>Computer Science and Engineering</td>\n",
              "      <td>0</td>\n",
              "    </tr>\n",
              "  </tbody>\n",
              "</table>\n",
              "</div>\n",
              "      <button class=\"colab-df-convert\" onclick=\"convertToInteractive('df-110511ae-aeee-4010-a7da-4886b3c41c4d')\"\n",
              "              title=\"Convert this dataframe to an interactive table.\"\n",
              "              style=\"display:none;\">\n",
              "        \n",
              "  <svg xmlns=\"http://www.w3.org/2000/svg\" height=\"24px\"viewBox=\"0 0 24 24\"\n",
              "       width=\"24px\">\n",
              "    <path d=\"M0 0h24v24H0V0z\" fill=\"none\"/>\n",
              "    <path d=\"M18.56 5.44l.94 2.06.94-2.06 2.06-.94-2.06-.94-.94-2.06-.94 2.06-2.06.94zm-11 1L8.5 8.5l.94-2.06 2.06-.94-2.06-.94L8.5 2.5l-.94 2.06-2.06.94zm10 10l.94 2.06.94-2.06 2.06-.94-2.06-.94-.94-2.06-.94 2.06-2.06.94z\"/><path d=\"M17.41 7.96l-1.37-1.37c-.4-.4-.92-.59-1.43-.59-.52 0-1.04.2-1.43.59L10.3 9.45l-7.72 7.72c-.78.78-.78 2.05 0 2.83L4 21.41c.39.39.9.59 1.41.59.51 0 1.02-.2 1.41-.59l7.78-7.78 2.81-2.81c.8-.78.8-2.07 0-2.86zM5.41 20L4 18.59l7.72-7.72 1.47 1.35L5.41 20z\"/>\n",
              "  </svg>\n",
              "      </button>\n",
              "      \n",
              "  <style>\n",
              "    .colab-df-container {\n",
              "      display:flex;\n",
              "      flex-wrap:wrap;\n",
              "      gap: 12px;\n",
              "    }\n",
              "\n",
              "    .colab-df-convert {\n",
              "      background-color: #E8F0FE;\n",
              "      border: none;\n",
              "      border-radius: 50%;\n",
              "      cursor: pointer;\n",
              "      display: none;\n",
              "      fill: #1967D2;\n",
              "      height: 32px;\n",
              "      padding: 0 0 0 0;\n",
              "      width: 32px;\n",
              "    }\n",
              "\n",
              "    .colab-df-convert:hover {\n",
              "      background-color: #E2EBFA;\n",
              "      box-shadow: 0px 1px 2px rgba(60, 64, 67, 0.3), 0px 1px 3px 1px rgba(60, 64, 67, 0.15);\n",
              "      fill: #174EA6;\n",
              "    }\n",
              "\n",
              "    [theme=dark] .colab-df-convert {\n",
              "      background-color: #3B4455;\n",
              "      fill: #D2E3FC;\n",
              "    }\n",
              "\n",
              "    [theme=dark] .colab-df-convert:hover {\n",
              "      background-color: #434B5C;\n",
              "      box-shadow: 0px 1px 3px 1px rgba(0, 0, 0, 0.15);\n",
              "      filter: drop-shadow(0px 1px 2px rgba(0, 0, 0, 0.3));\n",
              "      fill: #FFFFFF;\n",
              "    }\n",
              "  </style>\n",
              "\n",
              "      <script>\n",
              "        const buttonEl =\n",
              "          document.querySelector('#df-110511ae-aeee-4010-a7da-4886b3c41c4d button.colab-df-convert');\n",
              "        buttonEl.style.display =\n",
              "          google.colab.kernel.accessAllowed ? 'block' : 'none';\n",
              "\n",
              "        async function convertToInteractive(key) {\n",
              "          const element = document.querySelector('#df-110511ae-aeee-4010-a7da-4886b3c41c4d');\n",
              "          const dataTable =\n",
              "            await google.colab.kernel.invokeFunction('convertToInteractive',\n",
              "                                                     [key], {});\n",
              "          if (!dataTable) return;\n",
              "\n",
              "          const docLinkHtml = 'Like what you see? Visit the ' +\n",
              "            '<a target=\"_blank\" href=https://colab.research.google.com/notebooks/data_table.ipynb>data table notebook</a>'\n",
              "            + ' to learn more about interactive tables.';\n",
              "          element.innerHTML = '';\n",
              "          dataTable['output_type'] = 'display_data';\n",
              "          await google.colab.output.renderOutput(dataTable, element);\n",
              "          const docLink = document.createElement('div');\n",
              "          docLink.innerHTML = docLinkHtml;\n",
              "          element.appendChild(docLink);\n",
              "        }\n",
              "      </script>\n",
              "    </div>\n",
              "  </div>\n",
              "  "
            ]
          },
          "metadata": {},
          "execution_count": 3
        }
      ],
      "source": [
        "df1=pd.read_csv(\"college_1.csv\")\n",
        "df1.head()"
      ]
    },
    {
      "cell_type": "code",
      "source": [
        "df1.shape"
      ],
      "metadata": {
        "colab": {
          "base_uri": "https://localhost:8080/"
        },
        "id": "etWo8pWAIGRU",
        "outputId": "c210599e-e1d9-4764-aefd-798772e4c072"
      },
      "execution_count": 10,
      "outputs": [
        {
          "output_type": "execute_result",
          "data": {
            "text/plain": [
              "(84, 7)"
            ]
          },
          "metadata": {},
          "execution_count": 10
        }
      ]
    },
    {
      "cell_type": "code",
      "source": [
        "df2=pd.read_csv(\"college_2.csv\")\n",
        "df2.head()"
      ],
      "metadata": {
        "colab": {
          "base_uri": "https://localhost:8080/",
          "height": 206
        },
        "id": "Wd1DQ7QbHB_V",
        "outputId": "950d6248-0622-41c7-f21e-1d477980b8fa"
      },
      "execution_count": 5,
      "outputs": [
        {
          "output_type": "execute_result",
          "data": {
            "text/plain": [
              "                Name  python  python_en  mysql  computational_thinking  \\\n",
              "0      ASHOK KUMAR K     100          0     31                       9   \n",
              "1            Chandru       0         20      0                       0   \n",
              "2  Ganesh Ramkumar R      -1         55     24                       6   \n",
              "3    Bodipudi Harini      -1          0     35                      -1   \n",
              "4          VIINU V P      -1        100     24                      -1   \n",
              "\n",
              "   Previous Geekions  CodeKata Score  \\\n",
              "0              19400           19400   \n",
              "1              14150           14490   \n",
              "2               8790           10790   \n",
              "3              10040           10040   \n",
              "4               9150            9150   \n",
              "\n",
              "                                  Department  Rising  \n",
              "0     Electronics and Electrical Engineering       0  \n",
              "1           Computer Science and Engineering     340  \n",
              "2           Computer Science and Engineering    2000  \n",
              "3  Electronics and Communication Engineering       0  \n",
              "4     Electronics and Electrical Engineering       0  "
            ],
            "text/html": [
              "\n",
              "  <div id=\"df-d14dec64-8b35-4a44-a364-438d36091ee6\">\n",
              "    <div class=\"colab-df-container\">\n",
              "      <div>\n",
              "<style scoped>\n",
              "    .dataframe tbody tr th:only-of-type {\n",
              "        vertical-align: middle;\n",
              "    }\n",
              "\n",
              "    .dataframe tbody tr th {\n",
              "        vertical-align: top;\n",
              "    }\n",
              "\n",
              "    .dataframe thead th {\n",
              "        text-align: right;\n",
              "    }\n",
              "</style>\n",
              "<table border=\"1\" class=\"dataframe\">\n",
              "  <thead>\n",
              "    <tr style=\"text-align: right;\">\n",
              "      <th></th>\n",
              "      <th>Name</th>\n",
              "      <th>python</th>\n",
              "      <th>python_en</th>\n",
              "      <th>mysql</th>\n",
              "      <th>computational_thinking</th>\n",
              "      <th>Previous Geekions</th>\n",
              "      <th>CodeKata Score</th>\n",
              "      <th>Department</th>\n",
              "      <th>Rising</th>\n",
              "    </tr>\n",
              "  </thead>\n",
              "  <tbody>\n",
              "    <tr>\n",
              "      <th>0</th>\n",
              "      <td>ASHOK KUMAR K</td>\n",
              "      <td>100</td>\n",
              "      <td>0</td>\n",
              "      <td>31</td>\n",
              "      <td>9</td>\n",
              "      <td>19400</td>\n",
              "      <td>19400</td>\n",
              "      <td>Electronics and Electrical Engineering</td>\n",
              "      <td>0</td>\n",
              "    </tr>\n",
              "    <tr>\n",
              "      <th>1</th>\n",
              "      <td>Chandru</td>\n",
              "      <td>0</td>\n",
              "      <td>20</td>\n",
              "      <td>0</td>\n",
              "      <td>0</td>\n",
              "      <td>14150</td>\n",
              "      <td>14490</td>\n",
              "      <td>Computer Science and Engineering</td>\n",
              "      <td>340</td>\n",
              "    </tr>\n",
              "    <tr>\n",
              "      <th>2</th>\n",
              "      <td>Ganesh Ramkumar R</td>\n",
              "      <td>-1</td>\n",
              "      <td>55</td>\n",
              "      <td>24</td>\n",
              "      <td>6</td>\n",
              "      <td>8790</td>\n",
              "      <td>10790</td>\n",
              "      <td>Computer Science and Engineering</td>\n",
              "      <td>2000</td>\n",
              "    </tr>\n",
              "    <tr>\n",
              "      <th>3</th>\n",
              "      <td>Bodipudi Harini</td>\n",
              "      <td>-1</td>\n",
              "      <td>0</td>\n",
              "      <td>35</td>\n",
              "      <td>-1</td>\n",
              "      <td>10040</td>\n",
              "      <td>10040</td>\n",
              "      <td>Electronics and Communication Engineering</td>\n",
              "      <td>0</td>\n",
              "    </tr>\n",
              "    <tr>\n",
              "      <th>4</th>\n",
              "      <td>VIINU V P</td>\n",
              "      <td>-1</td>\n",
              "      <td>100</td>\n",
              "      <td>24</td>\n",
              "      <td>-1</td>\n",
              "      <td>9150</td>\n",
              "      <td>9150</td>\n",
              "      <td>Electronics and Electrical Engineering</td>\n",
              "      <td>0</td>\n",
              "    </tr>\n",
              "  </tbody>\n",
              "</table>\n",
              "</div>\n",
              "      <button class=\"colab-df-convert\" onclick=\"convertToInteractive('df-d14dec64-8b35-4a44-a364-438d36091ee6')\"\n",
              "              title=\"Convert this dataframe to an interactive table.\"\n",
              "              style=\"display:none;\">\n",
              "        \n",
              "  <svg xmlns=\"http://www.w3.org/2000/svg\" height=\"24px\"viewBox=\"0 0 24 24\"\n",
              "       width=\"24px\">\n",
              "    <path d=\"M0 0h24v24H0V0z\" fill=\"none\"/>\n",
              "    <path d=\"M18.56 5.44l.94 2.06.94-2.06 2.06-.94-2.06-.94-.94-2.06-.94 2.06-2.06.94zm-11 1L8.5 8.5l.94-2.06 2.06-.94-2.06-.94L8.5 2.5l-.94 2.06-2.06.94zm10 10l.94 2.06.94-2.06 2.06-.94-2.06-.94-.94-2.06-.94 2.06-2.06.94z\"/><path d=\"M17.41 7.96l-1.37-1.37c-.4-.4-.92-.59-1.43-.59-.52 0-1.04.2-1.43.59L10.3 9.45l-7.72 7.72c-.78.78-.78 2.05 0 2.83L4 21.41c.39.39.9.59 1.41.59.51 0 1.02-.2 1.41-.59l7.78-7.78 2.81-2.81c.8-.78.8-2.07 0-2.86zM5.41 20L4 18.59l7.72-7.72 1.47 1.35L5.41 20z\"/>\n",
              "  </svg>\n",
              "      </button>\n",
              "      \n",
              "  <style>\n",
              "    .colab-df-container {\n",
              "      display:flex;\n",
              "      flex-wrap:wrap;\n",
              "      gap: 12px;\n",
              "    }\n",
              "\n",
              "    .colab-df-convert {\n",
              "      background-color: #E8F0FE;\n",
              "      border: none;\n",
              "      border-radius: 50%;\n",
              "      cursor: pointer;\n",
              "      display: none;\n",
              "      fill: #1967D2;\n",
              "      height: 32px;\n",
              "      padding: 0 0 0 0;\n",
              "      width: 32px;\n",
              "    }\n",
              "\n",
              "    .colab-df-convert:hover {\n",
              "      background-color: #E2EBFA;\n",
              "      box-shadow: 0px 1px 2px rgba(60, 64, 67, 0.3), 0px 1px 3px 1px rgba(60, 64, 67, 0.15);\n",
              "      fill: #174EA6;\n",
              "    }\n",
              "\n",
              "    [theme=dark] .colab-df-convert {\n",
              "      background-color: #3B4455;\n",
              "      fill: #D2E3FC;\n",
              "    }\n",
              "\n",
              "    [theme=dark] .colab-df-convert:hover {\n",
              "      background-color: #434B5C;\n",
              "      box-shadow: 0px 1px 3px 1px rgba(0, 0, 0, 0.15);\n",
              "      filter: drop-shadow(0px 1px 2px rgba(0, 0, 0, 0.3));\n",
              "      fill: #FFFFFF;\n",
              "    }\n",
              "  </style>\n",
              "\n",
              "      <script>\n",
              "        const buttonEl =\n",
              "          document.querySelector('#df-d14dec64-8b35-4a44-a364-438d36091ee6 button.colab-df-convert');\n",
              "        buttonEl.style.display =\n",
              "          google.colab.kernel.accessAllowed ? 'block' : 'none';\n",
              "\n",
              "        async function convertToInteractive(key) {\n",
              "          const element = document.querySelector('#df-d14dec64-8b35-4a44-a364-438d36091ee6');\n",
              "          const dataTable =\n",
              "            await google.colab.kernel.invokeFunction('convertToInteractive',\n",
              "                                                     [key], {});\n",
              "          if (!dataTable) return;\n",
              "\n",
              "          const docLinkHtml = 'Like what you see? Visit the ' +\n",
              "            '<a target=\"_blank\" href=https://colab.research.google.com/notebooks/data_table.ipynb>data table notebook</a>'\n",
              "            + ' to learn more about interactive tables.';\n",
              "          element.innerHTML = '';\n",
              "          dataTable['output_type'] = 'display_data';\n",
              "          await google.colab.output.renderOutput(dataTable, element);\n",
              "          const docLink = document.createElement('div');\n",
              "          docLink.innerHTML = docLinkHtml;\n",
              "          element.appendChild(docLink);\n",
              "        }\n",
              "      </script>\n",
              "    </div>\n",
              "  </div>\n",
              "  "
            ]
          },
          "metadata": {},
          "execution_count": 5
        }
      ]
    },
    {
      "cell_type": "code",
      "source": [
        "df2.shape"
      ],
      "metadata": {
        "colab": {
          "base_uri": "https://localhost:8080/"
        },
        "id": "x6hBbMW1IJKx",
        "outputId": "15872d7a-2506-4569-aab6-4a363b40746a"
      },
      "execution_count": 11,
      "outputs": [
        {
          "output_type": "execute_result",
          "data": {
            "text/plain": [
              "(35, 9)"
            ]
          },
          "metadata": {},
          "execution_count": 11
        }
      ]
    },
    {
      "cell_type": "code",
      "source": [
        "df3=pd.concat([df1,df2],axis=0,ignore_index=True)\n",
        "df3.head()"
      ],
      "metadata": {
        "colab": {
          "base_uri": "https://localhost:8080/",
          "height": 206
        },
        "id": "BkfUSJ8pHTBh",
        "outputId": "49b0c5d2-bb0e-4b38-aed7-e5b6c45a3c3b"
      },
      "execution_count": 22,
      "outputs": [
        {
          "output_type": "execute_result",
          "data": {
            "text/plain": [
              "          Name  python  mysql  Previous Geekions  CodeKata Score  \\\n",
              "0    A.Dharani    82.0   20.0              24500           24500   \n",
              "1  V.JEEVITHA     82.0   20.0              21740           21740   \n",
              "2  HEMAVATHI.R   100.0  100.0              19680           19680   \n",
              "3  Mugunthan S   100.0   47.0              10610           10610   \n",
              "4  Sathammai.S   100.0    8.0               8980            8980   \n",
              "\n",
              "                         Department  Rising  python_en  computational_thinking  \n",
              "0  Computer Science and Engineering       0        NaN                     NaN  \n",
              "1  Computer Science and Engineering       0        NaN                     NaN  \n",
              "2  Computer Science and Engineering       0        NaN                     NaN  \n",
              "3  Computer Science and Engineering       0        NaN                     NaN  \n",
              "4  Computer Science and Engineering       0        NaN                     NaN  "
            ],
            "text/html": [
              "\n",
              "  <div id=\"df-98818b4b-31e3-4b04-864a-7a686e554bce\">\n",
              "    <div class=\"colab-df-container\">\n",
              "      <div>\n",
              "<style scoped>\n",
              "    .dataframe tbody tr th:only-of-type {\n",
              "        vertical-align: middle;\n",
              "    }\n",
              "\n",
              "    .dataframe tbody tr th {\n",
              "        vertical-align: top;\n",
              "    }\n",
              "\n",
              "    .dataframe thead th {\n",
              "        text-align: right;\n",
              "    }\n",
              "</style>\n",
              "<table border=\"1\" class=\"dataframe\">\n",
              "  <thead>\n",
              "    <tr style=\"text-align: right;\">\n",
              "      <th></th>\n",
              "      <th>Name</th>\n",
              "      <th>python</th>\n",
              "      <th>mysql</th>\n",
              "      <th>Previous Geekions</th>\n",
              "      <th>CodeKata Score</th>\n",
              "      <th>Department</th>\n",
              "      <th>Rising</th>\n",
              "      <th>python_en</th>\n",
              "      <th>computational_thinking</th>\n",
              "    </tr>\n",
              "  </thead>\n",
              "  <tbody>\n",
              "    <tr>\n",
              "      <th>0</th>\n",
              "      <td>A.Dharani</td>\n",
              "      <td>82.0</td>\n",
              "      <td>20.0</td>\n",
              "      <td>24500</td>\n",
              "      <td>24500</td>\n",
              "      <td>Computer Science and Engineering</td>\n",
              "      <td>0</td>\n",
              "      <td>NaN</td>\n",
              "      <td>NaN</td>\n",
              "    </tr>\n",
              "    <tr>\n",
              "      <th>1</th>\n",
              "      <td>V.JEEVITHA</td>\n",
              "      <td>82.0</td>\n",
              "      <td>20.0</td>\n",
              "      <td>21740</td>\n",
              "      <td>21740</td>\n",
              "      <td>Computer Science and Engineering</td>\n",
              "      <td>0</td>\n",
              "      <td>NaN</td>\n",
              "      <td>NaN</td>\n",
              "    </tr>\n",
              "    <tr>\n",
              "      <th>2</th>\n",
              "      <td>HEMAVATHI.R</td>\n",
              "      <td>100.0</td>\n",
              "      <td>100.0</td>\n",
              "      <td>19680</td>\n",
              "      <td>19680</td>\n",
              "      <td>Computer Science and Engineering</td>\n",
              "      <td>0</td>\n",
              "      <td>NaN</td>\n",
              "      <td>NaN</td>\n",
              "    </tr>\n",
              "    <tr>\n",
              "      <th>3</th>\n",
              "      <td>Mugunthan S</td>\n",
              "      <td>100.0</td>\n",
              "      <td>47.0</td>\n",
              "      <td>10610</td>\n",
              "      <td>10610</td>\n",
              "      <td>Computer Science and Engineering</td>\n",
              "      <td>0</td>\n",
              "      <td>NaN</td>\n",
              "      <td>NaN</td>\n",
              "    </tr>\n",
              "    <tr>\n",
              "      <th>4</th>\n",
              "      <td>Sathammai.S</td>\n",
              "      <td>100.0</td>\n",
              "      <td>8.0</td>\n",
              "      <td>8980</td>\n",
              "      <td>8980</td>\n",
              "      <td>Computer Science and Engineering</td>\n",
              "      <td>0</td>\n",
              "      <td>NaN</td>\n",
              "      <td>NaN</td>\n",
              "    </tr>\n",
              "  </tbody>\n",
              "</table>\n",
              "</div>\n",
              "      <button class=\"colab-df-convert\" onclick=\"convertToInteractive('df-98818b4b-31e3-4b04-864a-7a686e554bce')\"\n",
              "              title=\"Convert this dataframe to an interactive table.\"\n",
              "              style=\"display:none;\">\n",
              "        \n",
              "  <svg xmlns=\"http://www.w3.org/2000/svg\" height=\"24px\"viewBox=\"0 0 24 24\"\n",
              "       width=\"24px\">\n",
              "    <path d=\"M0 0h24v24H0V0z\" fill=\"none\"/>\n",
              "    <path d=\"M18.56 5.44l.94 2.06.94-2.06 2.06-.94-2.06-.94-.94-2.06-.94 2.06-2.06.94zm-11 1L8.5 8.5l.94-2.06 2.06-.94-2.06-.94L8.5 2.5l-.94 2.06-2.06.94zm10 10l.94 2.06.94-2.06 2.06-.94-2.06-.94-.94-2.06-.94 2.06-2.06.94z\"/><path d=\"M17.41 7.96l-1.37-1.37c-.4-.4-.92-.59-1.43-.59-.52 0-1.04.2-1.43.59L10.3 9.45l-7.72 7.72c-.78.78-.78 2.05 0 2.83L4 21.41c.39.39.9.59 1.41.59.51 0 1.02-.2 1.41-.59l7.78-7.78 2.81-2.81c.8-.78.8-2.07 0-2.86zM5.41 20L4 18.59l7.72-7.72 1.47 1.35L5.41 20z\"/>\n",
              "  </svg>\n",
              "      </button>\n",
              "      \n",
              "  <style>\n",
              "    .colab-df-container {\n",
              "      display:flex;\n",
              "      flex-wrap:wrap;\n",
              "      gap: 12px;\n",
              "    }\n",
              "\n",
              "    .colab-df-convert {\n",
              "      background-color: #E8F0FE;\n",
              "      border: none;\n",
              "      border-radius: 50%;\n",
              "      cursor: pointer;\n",
              "      display: none;\n",
              "      fill: #1967D2;\n",
              "      height: 32px;\n",
              "      padding: 0 0 0 0;\n",
              "      width: 32px;\n",
              "    }\n",
              "\n",
              "    .colab-df-convert:hover {\n",
              "      background-color: #E2EBFA;\n",
              "      box-shadow: 0px 1px 2px rgba(60, 64, 67, 0.3), 0px 1px 3px 1px rgba(60, 64, 67, 0.15);\n",
              "      fill: #174EA6;\n",
              "    }\n",
              "\n",
              "    [theme=dark] .colab-df-convert {\n",
              "      background-color: #3B4455;\n",
              "      fill: #D2E3FC;\n",
              "    }\n",
              "\n",
              "    [theme=dark] .colab-df-convert:hover {\n",
              "      background-color: #434B5C;\n",
              "      box-shadow: 0px 1px 3px 1px rgba(0, 0, 0, 0.15);\n",
              "      filter: drop-shadow(0px 1px 2px rgba(0, 0, 0, 0.3));\n",
              "      fill: #FFFFFF;\n",
              "    }\n",
              "  </style>\n",
              "\n",
              "      <script>\n",
              "        const buttonEl =\n",
              "          document.querySelector('#df-98818b4b-31e3-4b04-864a-7a686e554bce button.colab-df-convert');\n",
              "        buttonEl.style.display =\n",
              "          google.colab.kernel.accessAllowed ? 'block' : 'none';\n",
              "\n",
              "        async function convertToInteractive(key) {\n",
              "          const element = document.querySelector('#df-98818b4b-31e3-4b04-864a-7a686e554bce');\n",
              "          const dataTable =\n",
              "            await google.colab.kernel.invokeFunction('convertToInteractive',\n",
              "                                                     [key], {});\n",
              "          if (!dataTable) return;\n",
              "\n",
              "          const docLinkHtml = 'Like what you see? Visit the ' +\n",
              "            '<a target=\"_blank\" href=https://colab.research.google.com/notebooks/data_table.ipynb>data table notebook</a>'\n",
              "            + ' to learn more about interactive tables.';\n",
              "          element.innerHTML = '';\n",
              "          dataTable['output_type'] = 'display_data';\n",
              "          await google.colab.output.renderOutput(dataTable, element);\n",
              "          const docLink = document.createElement('div');\n",
              "          docLink.innerHTML = docLinkHtml;\n",
              "          element.appendChild(docLink);\n",
              "        }\n",
              "      </script>\n",
              "    </div>\n",
              "  </div>\n",
              "  "
            ]
          },
          "metadata": {},
          "execution_count": 22
        }
      ]
    },
    {
      "cell_type": "code",
      "source": [
        "df3.shape"
      ],
      "metadata": {
        "colab": {
          "base_uri": "https://localhost:8080/"
        },
        "id": "MN-4grYtJS1s",
        "outputId": "6fef7dc7-f87b-4fbe-ee5c-c312c3e4b531"
      },
      "execution_count": 13,
      "outputs": [
        {
          "output_type": "execute_result",
          "data": {
            "text/plain": [
              "(119, 9)"
            ]
          },
          "metadata": {},
          "execution_count": 13
        }
      ]
    },
    {
      "cell_type": "markdown",
      "metadata": {
        "id": "y7MpyNBs-zha"
      },
      "source": [
        "###### Take each csv file , split that csv file into multiple categories (example csv files are added in the repo) \n"
      ]
    },
    {
      "cell_type": "markdown",
      "metadata": {
        "id": "vvmEDSe4-zhc"
      },
      "source": [
        "###### consider if the codekata score exceeds 15000 points(present week) then make a csv on those observations as Exceeded expectations.csv\n"
      ]
    },
    {
      "cell_type": "markdown",
      "metadata": {
        "id": "AvetrBX1-zhe"
      },
      "source": [
        "###### if  10000<codekata score<15000   (Reached_expectations.csv)\n",
        "\n"
      ]
    },
    {
      "cell_type": "markdown",
      "metadata": {
        "id": "ECbVHGLj-zhf"
      },
      "source": [
        "###### if  7000<codekata score<10000   (Needs_Improvement.csv)\n"
      ]
    },
    {
      "cell_type": "markdown",
      "metadata": {
        "id": "gpODA8S5-zhg"
      },
      "source": [
        "###### if  codekate score < 7000        (Unsatisfactory.csv)"
      ]
    },
    {
      "cell_type": "code",
      "execution_count": 25,
      "metadata": {
        "id": "nyZFteOj-zhh"
      },
      "outputs": [],
      "source": [
        "Exceeded_expectations=df3[df3['CodeKata Score']>15000]\n",
        "Exceeded_expectations.to_csv(\"Exceeded_expectations.csv\",index=False)"
      ]
    },
    {
      "cell_type": "code",
      "execution_count": 27,
      "metadata": {
        "id": "ZHMhuqRX-zhi"
      },
      "outputs": [],
      "source": [
        "Reached_expectations=df3[(df3['CodeKata Score']>10000)&(df3['CodeKata Score']<15000)]\n",
        "Reached_expectations.to_csv(\"Reached_expectations.csv\",index=False)"
      ]
    },
    {
      "cell_type": "code",
      "source": [
        "Needs_Improvement=df3[(df3['CodeKata Score']>7000)&(df3['CodeKata Score']<10000)]\n",
        "Needs_Improvement.to_csv(\"Needs_Improvement.csv\",index=False)"
      ],
      "metadata": {
        "id": "qJaXSRJvMxZF"
      },
      "execution_count": 28,
      "outputs": []
    },
    {
      "cell_type": "code",
      "source": [
        "Unsatisfactory=df3[df3[\"CodeKata Score\"]<7000]\n",
        "Unsatisfactory.to_csv(\"Unsatisfactory.csv\")"
      ],
      "metadata": {
        "id": "1sRRfXAdNBhm"
      },
      "execution_count": 29,
      "outputs": []
    },
    {
      "cell_type": "markdown",
      "metadata": {
        "id": "lEuvVpPk-zhi"
      },
      "source": [
        "###### Average of previous week geekions vs this week geekions (i.e Previous Geekions vs CodeKata Score)"
      ]
    },
    {
      "cell_type": "code",
      "execution_count": 42,
      "metadata": {
        "id": "wWa8B1NE-zhj",
        "colab": {
          "base_uri": "https://localhost:8080/"
        },
        "outputId": "5b3b2035-19a6-4bf0-85d2-97b260381f89"
      },
      "outputs": [
        {
          "output_type": "execute_result",
          "data": {
            "text/plain": [
              "Previous Geekions    3842.352941\n",
              "CodeKata Score       4051.764706\n",
              "dtype: float64"
            ]
          },
          "metadata": {},
          "execution_count": 42
        }
      ],
      "source": [
        "Avg = df3[['Previous Geekions','CodeKata Score']].mean()\n",
        "Avg"
      ]
    },
    {
      "cell_type": "markdown",
      "metadata": {
        "id": "zei7am0S-zhk"
      },
      "source": [
        "###### No of students participated "
      ]
    },
    {
      "cell_type": "code",
      "execution_count": 43,
      "metadata": {
        "id": "A1ll5Z2w-zhk",
        "colab": {
          "base_uri": "https://localhost:8080/"
        },
        "outputId": "cdcddc7b-5784-47b0-958c-a556e9eb036a"
      },
      "outputs": [
        {
          "output_type": "execute_result",
          "data": {
            "text/plain": [
              "119"
            ]
          },
          "metadata": {},
          "execution_count": 43
        }
      ],
      "source": [
        "df3[\"Name\"].nunique()"
      ]
    },
    {
      "cell_type": "markdown",
      "metadata": {
        "id": "Sx5XgtyO-zhl"
      },
      "source": [
        "###### #Average completion of python course or my_sql or python english or computational thinking"
      ]
    },
    {
      "cell_type": "code",
      "execution_count": 44,
      "metadata": {
        "id": "q34uC9Cb-zhm",
        "colab": {
          "base_uri": "https://localhost:8080/"
        },
        "outputId": "e1df12d4-cc52-44aa-db66-b83836320479"
      },
      "outputs": [
        {
          "output_type": "execute_result",
          "data": {
            "text/plain": [
              "python                    54.352941\n",
              "mysql                     23.500000\n",
              "python_en                 29.657143\n",
              "computational_thinking     2.200000\n",
              "dtype: float64"
            ]
          },
          "metadata": {},
          "execution_count": 44
        }
      ],
      "source": [
        "Avg= df3[['python','mysql',\"python_en\",\"computational_thinking\"]].mean()\n",
        "Avg"
      ]
    },
    {
      "cell_type": "markdown",
      "metadata": {
        "id": "wzJF-YV3-zhm"
      },
      "source": [
        "###### rising star of the week (top 3 candidate who performed well in that particular week)"
      ]
    },
    {
      "cell_type": "code",
      "execution_count": 51,
      "metadata": {
        "id": "K7Jc6zxa-zhn",
        "colab": {
          "base_uri": "https://localhost:8080/",
          "height": 143
        },
        "outputId": "2f34c799-07fa-40d5-a13d-cef5d85376bf"
      },
      "outputs": [
        {
          "output_type": "execute_result",
          "data": {
            "text/plain": [
              "          Name  python  mysql  Previous Geekions  CodeKata Score  \\\n",
              "0    A.Dharani    82.0   20.0              24500           24500   \n",
              "1  V.JEEVITHA     82.0   20.0              21740           21740   \n",
              "2  HEMAVATHI.R   100.0  100.0              19680           19680   \n",
              "\n",
              "                         Department  Rising  python_en  computational_thinking  \n",
              "0  Computer Science and Engineering       0        NaN                     NaN  \n",
              "1  Computer Science and Engineering       0        NaN                     NaN  \n",
              "2  Computer Science and Engineering       0        NaN                     NaN  "
            ],
            "text/html": [
              "\n",
              "  <div id=\"df-39a56b31-3adf-4752-84a8-058bc617c26a\">\n",
              "    <div class=\"colab-df-container\">\n",
              "      <div>\n",
              "<style scoped>\n",
              "    .dataframe tbody tr th:only-of-type {\n",
              "        vertical-align: middle;\n",
              "    }\n",
              "\n",
              "    .dataframe tbody tr th {\n",
              "        vertical-align: top;\n",
              "    }\n",
              "\n",
              "    .dataframe thead th {\n",
              "        text-align: right;\n",
              "    }\n",
              "</style>\n",
              "<table border=\"1\" class=\"dataframe\">\n",
              "  <thead>\n",
              "    <tr style=\"text-align: right;\">\n",
              "      <th></th>\n",
              "      <th>Name</th>\n",
              "      <th>python</th>\n",
              "      <th>mysql</th>\n",
              "      <th>Previous Geekions</th>\n",
              "      <th>CodeKata Score</th>\n",
              "      <th>Department</th>\n",
              "      <th>Rising</th>\n",
              "      <th>python_en</th>\n",
              "      <th>computational_thinking</th>\n",
              "    </tr>\n",
              "  </thead>\n",
              "  <tbody>\n",
              "    <tr>\n",
              "      <th>0</th>\n",
              "      <td>A.Dharani</td>\n",
              "      <td>82.0</td>\n",
              "      <td>20.0</td>\n",
              "      <td>24500</td>\n",
              "      <td>24500</td>\n",
              "      <td>Computer Science and Engineering</td>\n",
              "      <td>0</td>\n",
              "      <td>NaN</td>\n",
              "      <td>NaN</td>\n",
              "    </tr>\n",
              "    <tr>\n",
              "      <th>1</th>\n",
              "      <td>V.JEEVITHA</td>\n",
              "      <td>82.0</td>\n",
              "      <td>20.0</td>\n",
              "      <td>21740</td>\n",
              "      <td>21740</td>\n",
              "      <td>Computer Science and Engineering</td>\n",
              "      <td>0</td>\n",
              "      <td>NaN</td>\n",
              "      <td>NaN</td>\n",
              "    </tr>\n",
              "    <tr>\n",
              "      <th>2</th>\n",
              "      <td>HEMAVATHI.R</td>\n",
              "      <td>100.0</td>\n",
              "      <td>100.0</td>\n",
              "      <td>19680</td>\n",
              "      <td>19680</td>\n",
              "      <td>Computer Science and Engineering</td>\n",
              "      <td>0</td>\n",
              "      <td>NaN</td>\n",
              "      <td>NaN</td>\n",
              "    </tr>\n",
              "  </tbody>\n",
              "</table>\n",
              "</div>\n",
              "      <button class=\"colab-df-convert\" onclick=\"convertToInteractive('df-39a56b31-3adf-4752-84a8-058bc617c26a')\"\n",
              "              title=\"Convert this dataframe to an interactive table.\"\n",
              "              style=\"display:none;\">\n",
              "        \n",
              "  <svg xmlns=\"http://www.w3.org/2000/svg\" height=\"24px\"viewBox=\"0 0 24 24\"\n",
              "       width=\"24px\">\n",
              "    <path d=\"M0 0h24v24H0V0z\" fill=\"none\"/>\n",
              "    <path d=\"M18.56 5.44l.94 2.06.94-2.06 2.06-.94-2.06-.94-.94-2.06-.94 2.06-2.06.94zm-11 1L8.5 8.5l.94-2.06 2.06-.94-2.06-.94L8.5 2.5l-.94 2.06-2.06.94zm10 10l.94 2.06.94-2.06 2.06-.94-2.06-.94-.94-2.06-.94 2.06-2.06.94z\"/><path d=\"M17.41 7.96l-1.37-1.37c-.4-.4-.92-.59-1.43-.59-.52 0-1.04.2-1.43.59L10.3 9.45l-7.72 7.72c-.78.78-.78 2.05 0 2.83L4 21.41c.39.39.9.59 1.41.59.51 0 1.02-.2 1.41-.59l7.78-7.78 2.81-2.81c.8-.78.8-2.07 0-2.86zM5.41 20L4 18.59l7.72-7.72 1.47 1.35L5.41 20z\"/>\n",
              "  </svg>\n",
              "      </button>\n",
              "      \n",
              "  <style>\n",
              "    .colab-df-container {\n",
              "      display:flex;\n",
              "      flex-wrap:wrap;\n",
              "      gap: 12px;\n",
              "    }\n",
              "\n",
              "    .colab-df-convert {\n",
              "      background-color: #E8F0FE;\n",
              "      border: none;\n",
              "      border-radius: 50%;\n",
              "      cursor: pointer;\n",
              "      display: none;\n",
              "      fill: #1967D2;\n",
              "      height: 32px;\n",
              "      padding: 0 0 0 0;\n",
              "      width: 32px;\n",
              "    }\n",
              "\n",
              "    .colab-df-convert:hover {\n",
              "      background-color: #E2EBFA;\n",
              "      box-shadow: 0px 1px 2px rgba(60, 64, 67, 0.3), 0px 1px 3px 1px rgba(60, 64, 67, 0.15);\n",
              "      fill: #174EA6;\n",
              "    }\n",
              "\n",
              "    [theme=dark] .colab-df-convert {\n",
              "      background-color: #3B4455;\n",
              "      fill: #D2E3FC;\n",
              "    }\n",
              "\n",
              "    [theme=dark] .colab-df-convert:hover {\n",
              "      background-color: #434B5C;\n",
              "      box-shadow: 0px 1px 3px 1px rgba(0, 0, 0, 0.15);\n",
              "      filter: drop-shadow(0px 1px 2px rgba(0, 0, 0, 0.3));\n",
              "      fill: #FFFFFF;\n",
              "    }\n",
              "  </style>\n",
              "\n",
              "      <script>\n",
              "        const buttonEl =\n",
              "          document.querySelector('#df-39a56b31-3adf-4752-84a8-058bc617c26a button.colab-df-convert');\n",
              "        buttonEl.style.display =\n",
              "          google.colab.kernel.accessAllowed ? 'block' : 'none';\n",
              "\n",
              "        async function convertToInteractive(key) {\n",
              "          const element = document.querySelector('#df-39a56b31-3adf-4752-84a8-058bc617c26a');\n",
              "          const dataTable =\n",
              "            await google.colab.kernel.invokeFunction('convertToInteractive',\n",
              "                                                     [key], {});\n",
              "          if (!dataTable) return;\n",
              "\n",
              "          const docLinkHtml = 'Like what you see? Visit the ' +\n",
              "            '<a target=\"_blank\" href=https://colab.research.google.com/notebooks/data_table.ipynb>data table notebook</a>'\n",
              "            + ' to learn more about interactive tables.';\n",
              "          element.innerHTML = '';\n",
              "          dataTable['output_type'] = 'display_data';\n",
              "          await google.colab.output.renderOutput(dataTable, element);\n",
              "          const docLink = document.createElement('div');\n",
              "          docLink.innerHTML = docLinkHtml;\n",
              "          element.appendChild(docLink);\n",
              "        }\n",
              "      </script>\n",
              "    </div>\n",
              "  </div>\n",
              "  "
            ]
          },
          "metadata": {},
          "execution_count": 51
        }
      ],
      "source": [
        "top3=df3.nlargest(3,\"CodeKata Score\")\n",
        "top3"
      ]
    },
    {
      "cell_type": "markdown",
      "metadata": {
        "id": "pQqNNVHp-zhn"
      },
      "source": [
        "Shining stars of the week (top 3 candidates who has highest geekions)"
      ]
    },
    {
      "cell_type": "code",
      "execution_count": 52,
      "metadata": {
        "id": "3K9FLYLy-zho",
        "colab": {
          "base_uri": "https://localhost:8080/",
          "height": 143
        },
        "outputId": "9f8e21f2-dbc0-4512-e5aa-bd394494be7b"
      },
      "outputs": [
        {
          "output_type": "execute_result",
          "data": {
            "text/plain": [
              "          Name  python  mysql  Previous Geekions  CodeKata Score  \\\n",
              "0    A.Dharani    82.0   20.0              24500           24500   \n",
              "1  V.JEEVITHA     82.0   20.0              21740           21740   \n",
              "2  HEMAVATHI.R   100.0  100.0              19680           19680   \n",
              "\n",
              "                         Department  Rising  python_en  computational_thinking  \n",
              "0  Computer Science and Engineering       0        NaN                     NaN  \n",
              "1  Computer Science and Engineering       0        NaN                     NaN  \n",
              "2  Computer Science and Engineering       0        NaN                     NaN  "
            ],
            "text/html": [
              "\n",
              "  <div id=\"df-4d8102e4-b147-4978-8cda-431e7d84b945\">\n",
              "    <div class=\"colab-df-container\">\n",
              "      <div>\n",
              "<style scoped>\n",
              "    .dataframe tbody tr th:only-of-type {\n",
              "        vertical-align: middle;\n",
              "    }\n",
              "\n",
              "    .dataframe tbody tr th {\n",
              "        vertical-align: top;\n",
              "    }\n",
              "\n",
              "    .dataframe thead th {\n",
              "        text-align: right;\n",
              "    }\n",
              "</style>\n",
              "<table border=\"1\" class=\"dataframe\">\n",
              "  <thead>\n",
              "    <tr style=\"text-align: right;\">\n",
              "      <th></th>\n",
              "      <th>Name</th>\n",
              "      <th>python</th>\n",
              "      <th>mysql</th>\n",
              "      <th>Previous Geekions</th>\n",
              "      <th>CodeKata Score</th>\n",
              "      <th>Department</th>\n",
              "      <th>Rising</th>\n",
              "      <th>python_en</th>\n",
              "      <th>computational_thinking</th>\n",
              "    </tr>\n",
              "  </thead>\n",
              "  <tbody>\n",
              "    <tr>\n",
              "      <th>0</th>\n",
              "      <td>A.Dharani</td>\n",
              "      <td>82.0</td>\n",
              "      <td>20.0</td>\n",
              "      <td>24500</td>\n",
              "      <td>24500</td>\n",
              "      <td>Computer Science and Engineering</td>\n",
              "      <td>0</td>\n",
              "      <td>NaN</td>\n",
              "      <td>NaN</td>\n",
              "    </tr>\n",
              "    <tr>\n",
              "      <th>1</th>\n",
              "      <td>V.JEEVITHA</td>\n",
              "      <td>82.0</td>\n",
              "      <td>20.0</td>\n",
              "      <td>21740</td>\n",
              "      <td>21740</td>\n",
              "      <td>Computer Science and Engineering</td>\n",
              "      <td>0</td>\n",
              "      <td>NaN</td>\n",
              "      <td>NaN</td>\n",
              "    </tr>\n",
              "    <tr>\n",
              "      <th>2</th>\n",
              "      <td>HEMAVATHI.R</td>\n",
              "      <td>100.0</td>\n",
              "      <td>100.0</td>\n",
              "      <td>19680</td>\n",
              "      <td>19680</td>\n",
              "      <td>Computer Science and Engineering</td>\n",
              "      <td>0</td>\n",
              "      <td>NaN</td>\n",
              "      <td>NaN</td>\n",
              "    </tr>\n",
              "  </tbody>\n",
              "</table>\n",
              "</div>\n",
              "      <button class=\"colab-df-convert\" onclick=\"convertToInteractive('df-4d8102e4-b147-4978-8cda-431e7d84b945')\"\n",
              "              title=\"Convert this dataframe to an interactive table.\"\n",
              "              style=\"display:none;\">\n",
              "        \n",
              "  <svg xmlns=\"http://www.w3.org/2000/svg\" height=\"24px\"viewBox=\"0 0 24 24\"\n",
              "       width=\"24px\">\n",
              "    <path d=\"M0 0h24v24H0V0z\" fill=\"none\"/>\n",
              "    <path d=\"M18.56 5.44l.94 2.06.94-2.06 2.06-.94-2.06-.94-.94-2.06-.94 2.06-2.06.94zm-11 1L8.5 8.5l.94-2.06 2.06-.94-2.06-.94L8.5 2.5l-.94 2.06-2.06.94zm10 10l.94 2.06.94-2.06 2.06-.94-2.06-.94-.94-2.06-.94 2.06-2.06.94z\"/><path d=\"M17.41 7.96l-1.37-1.37c-.4-.4-.92-.59-1.43-.59-.52 0-1.04.2-1.43.59L10.3 9.45l-7.72 7.72c-.78.78-.78 2.05 0 2.83L4 21.41c.39.39.9.59 1.41.59.51 0 1.02-.2 1.41-.59l7.78-7.78 2.81-2.81c.8-.78.8-2.07 0-2.86zM5.41 20L4 18.59l7.72-7.72 1.47 1.35L5.41 20z\"/>\n",
              "  </svg>\n",
              "      </button>\n",
              "      \n",
              "  <style>\n",
              "    .colab-df-container {\n",
              "      display:flex;\n",
              "      flex-wrap:wrap;\n",
              "      gap: 12px;\n",
              "    }\n",
              "\n",
              "    .colab-df-convert {\n",
              "      background-color: #E8F0FE;\n",
              "      border: none;\n",
              "      border-radius: 50%;\n",
              "      cursor: pointer;\n",
              "      display: none;\n",
              "      fill: #1967D2;\n",
              "      height: 32px;\n",
              "      padding: 0 0 0 0;\n",
              "      width: 32px;\n",
              "    }\n",
              "\n",
              "    .colab-df-convert:hover {\n",
              "      background-color: #E2EBFA;\n",
              "      box-shadow: 0px 1px 2px rgba(60, 64, 67, 0.3), 0px 1px 3px 1px rgba(60, 64, 67, 0.15);\n",
              "      fill: #174EA6;\n",
              "    }\n",
              "\n",
              "    [theme=dark] .colab-df-convert {\n",
              "      background-color: #3B4455;\n",
              "      fill: #D2E3FC;\n",
              "    }\n",
              "\n",
              "    [theme=dark] .colab-df-convert:hover {\n",
              "      background-color: #434B5C;\n",
              "      box-shadow: 0px 1px 3px 1px rgba(0, 0, 0, 0.15);\n",
              "      filter: drop-shadow(0px 1px 2px rgba(0, 0, 0, 0.3));\n",
              "      fill: #FFFFFF;\n",
              "    }\n",
              "  </style>\n",
              "\n",
              "      <script>\n",
              "        const buttonEl =\n",
              "          document.querySelector('#df-4d8102e4-b147-4978-8cda-431e7d84b945 button.colab-df-convert');\n",
              "        buttonEl.style.display =\n",
              "          google.colab.kernel.accessAllowed ? 'block' : 'none';\n",
              "\n",
              "        async function convertToInteractive(key) {\n",
              "          const element = document.querySelector('#df-4d8102e4-b147-4978-8cda-431e7d84b945');\n",
              "          const dataTable =\n",
              "            await google.colab.kernel.invokeFunction('convertToInteractive',\n",
              "                                                     [key], {});\n",
              "          if (!dataTable) return;\n",
              "\n",
              "          const docLinkHtml = 'Like what you see? Visit the ' +\n",
              "            '<a target=\"_blank\" href=https://colab.research.google.com/notebooks/data_table.ipynb>data table notebook</a>'\n",
              "            + ' to learn more about interactive tables.';\n",
              "          element.innerHTML = '';\n",
              "          dataTable['output_type'] = 'display_data';\n",
              "          await google.colab.output.renderOutput(dataTable, element);\n",
              "          const docLink = document.createElement('div');\n",
              "          docLink.innerHTML = docLinkHtml;\n",
              "          element.appendChild(docLink);\n",
              "        }\n",
              "      </script>\n",
              "    </div>\n",
              "  </div>\n",
              "  "
            ]
          },
          "metadata": {},
          "execution_count": 52
        }
      ],
      "source": [
        "top3=df3.nlargest(3,\"Previous Geekions\")\n",
        "top3"
      ]
    },
    {
      "cell_type": "markdown",
      "metadata": {
        "id": "u-4na885-zhp"
      },
      "source": [
        "###### Department wise codekata performence (pie chart)"
      ]
    },
    {
      "cell_type": "code",
      "execution_count": 62,
      "metadata": {
        "id": "1Q4v8p-M-zhq",
        "colab": {
          "base_uri": "https://localhost:8080/",
          "height": 281
        },
        "outputId": "7bad84a5-bc48-4f45-a77f-b3d2c63c4e66"
      },
      "outputs": [
        {
          "output_type": "execute_result",
          "data": {
            "text/plain": [
              "<matplotlib.axes._subplots.AxesSubplot at 0x7f1c15bd6ca0>"
            ]
          },
          "metadata": {},
          "execution_count": 62
        },
        {
          "output_type": "display_data",
          "data": {
            "text/plain": [
              "<Figure size 432x288 with 1 Axes>"
            ],
            "image/png": "[encoded data removed]"
          },
          "metadata": {}
        }
      ],
      "source": [
        "import matplotlib.pyplot as plt\n",
        "sum=df3.groupby(\"Department\")[\"CodeKata Score\"].sum()\n",
        "sum.plot(kind=\"pie\",startangle=90,autopct=\"'%1.2f%%\",title='Department wise codekata performence')"
      ]
    },
    {
      "cell_type": "markdown",
      "metadata": {
        "id": "sUQCG30v-zhq"
      },
      "source": [
        "###### Department wise toppers (horizantal bar graph or any visual representations of your choice)"
      ]
    },
    {
      "cell_type": "code",
      "execution_count": 74,
      "metadata": {
        "id": "MW3TrxlC-zhr"
      },
      "outputs": [],
      "source": [
        "topper=df3.groupby(\"Department\")[\"CodeKata Score\"].max()"
      ]
    },
    {
      "cell_type": "code",
      "execution_count": 75,
      "metadata": {
        "id": "iawp0jzX-zhs",
        "colab": {
          "base_uri": "https://localhost:8080/",
          "height": 282
        },
        "outputId": "0b8baeac-187d-4063-df1a-371d2c0fec51"
      },
      "outputs": [
        {
          "output_type": "execute_result",
          "data": {
            "text/plain": [
              "<matplotlib.axes._subplots.AxesSubplot at 0x7f1c15ccfb50>"
            ]
          },
          "metadata": {},
          "execution_count": 75
        },
        {
          "output_type": "display_data",
          "data": {
            "text/plain": [
              "<Figure size 432x288 with 1 Axes>"
            ],
            "image/png": "[encoded data removed]"
          },
          "metadata": {
            "needs_background": "light"
          }
        }
      ],
      "source": [
        "topper.plot(kind=\"barh\")"
      ]
    },
    {
      "cell_type": "code",
      "execution_count": null,
      "metadata": {
        "id": "Cu2LCf_--zhs"
      },
      "outputs": [],
      "source": []
    },
    {
      "cell_type": "code",
      "execution_count": null,
      "metadata": {
        "id": "754ZBU3W-zht"
      },
      "outputs": [],
      "source": []
    }
  ],
  "metadata": {
    "kernelspec": {
      "display_name": "Python 3",
      "language": "python",
      "name": "python3"
    },
    "language_info": {
      "codemirror_mode": {
        "name": "ipython",
        "version": 3
      },
      "file_extension": ".py",
      "mimetype": "text/x-python",
      "name": "python",
      "nbconvert_exporter": "python",
      "pygments_lexer": "ipython3",
      "version": "3.8.3"
    },
    "colab": {
      "provenance": []
    }
  },
  "nbformat": 4,
  "nbformat_minor": 0
}